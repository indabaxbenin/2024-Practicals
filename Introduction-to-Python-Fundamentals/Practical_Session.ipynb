{
 "cells": [
  {
   "cell_type": "markdown",
   "metadata": {
    "id": "cNw-DR7XZvOW"
   },
   "source": [
    "# **DEEP LEARNING INDABA BENIN REPUBLIC 2024**\n",
    "\n",
    "### PRACTICAL SESSION: INTRODUCTION TO PYTHON FOR DATA SCIENCE"
   ]
  },
  {
   "cell_type": "markdown",
   "metadata": {
    "id": "AArGUZzoaVr6"
   },
   "source": [
    "This session is designed for Google Colab and allows participants to practice Python fundamentals with their own code.\n",
    "\n",
    "Session Goals:\n",
    "\n",
    "- Learn basic Python syntax and concepts for data science.\n",
    "\n",
    "- Explore data types, variables, loops, conditionals, functions, and libraries.\n",
    "\n",
    "- Write and test code in a collaborative environment."
   ]
  },
  {
   "cell_type": "markdown",
   "metadata": {
    "id": "mdI4sqt2bB8L"
   },
   "source": [
    "## 1. Setting Up in Google Colab\n",
    "\n",
    "**Notebook Setup**\n",
    "\n",
    "Run this cell to ensure the environment is ready:"
   ]
  },
  {
   "cell_type": "code",
   "execution_count": null,
   "metadata": {
    "id": "BQzlVTgGZtDj"
   },
   "outputs": [],
   "source": [
    "# Installer les bibliothèques nécessaires (Install required libraries)\n",
    "# Ce code vérifie si des packages spécifiques sont déjà installés. (This code checks if specific packages are already installed.)\n",
    "!pip install --quiet numpy pandas matplotlib scikit-learn\n"
   ]
  },
  {
   "cell_type": "markdown",
   "metadata": {
    "id": "bFsaiqMcbZSf"
   },
   "source": [
    "## 2. Python Basics\n",
    "**Data Types and Variables**\n",
    "\n",
    "Declare variables of different types and experiment:"
   ]
  },
  {
   "cell_type": "code",
   "execution_count": null,
   "metadata": {
    "id": "EzDpu6K0bhN3"
   },
   "outputs": [],
   "source": [
    "# Déclaration de variables (Variable declaration)\n",
    "entier = ...  # Exemple d'un entier (Example of an integer)\n",
    "decimal = ...  # Exemple d'un flottant (Example of a float)\n",
    "chaine = \"...\"  # Exemple d'une chaîne de caractères (Example of a string)\n",
    "booleen = ...  # Exemple d'un booléen (Example of a boolean)\n",
    "\n",
    "# Afficher les types (Print variable types)\n",
    "print(type(entier), type(decimal), type(chaine), type(booleen))\n"
   ]
  },
  {
   "cell_type": "markdown",
   "metadata": {
    "id": "Gvhh2KKzdDdI"
   },
   "source": [
    "**Lists, Tuples, and Dictionaries**"
   ]
  },
  {
   "cell_type": "code",
   "execution_count": null,
   "metadata": {
    "id": "NTR8gmeIdKyF"
   },
   "outputs": [],
   "source": [
    "# Exemple de liste (Example of a list)\n",
    "ma_liste = [...]\n",
    "print(\"Liste:\", ma_liste)\n",
    "\n",
    "# Exemple de tuple (Example of a tuple)\n",
    "mon_tuple = (...)\n",
    "print(\"Tuple:\", mon_tuple)\n",
    "\n",
    "# Exemple de dictionnaire (Example of a dictionary)\n",
    "mon_dict = {\"nom\": \"...\", \"age\": ..., \"hauteur\" : ...}\n",
    "print(\"Dictionnaire:\", mon_dict)"
   ]
  },
  {
   "cell_type": "markdown",
   "metadata": {
    "id": "xwL77OP8e3cV"
   },
   "source": [
    "## 3. Loops and Conditionals"
   ]
  },
  {
   "cell_type": "code",
   "execution_count": null,
   "metadata": {
    "id": "EH1_Swc4fHd8"
   },
   "outputs": [],
   "source": [
    "# Condition if-else (If-else condition)\n",
    "x = 10\n",
    "if x > 5:\n",
    "    print(\"x est supérieur à 5\")  # (x is greater than 5)\n",
    "else:\n",
    "    print(\"x est inférieur ou égal à 5\")  # x is less than or equal to 5\n",
    "\n",
    "# Boucle for (For loop)\n",
    "for i in range(5):\n",
    "    print(f\"Iteration {i}\")\n",
    "\n",
    "# Boucle while (While loop)\n",
    "compteur = 0   # counter = 0\n",
    "while compteur < 3:\n",
    "    print(f\"Compteur: {compteur}\")\n",
    "    compteur += 1"
   ]
  },
  {
   "cell_type": "markdown",
   "metadata": {
    "id": "7MT_Kzwjk2_b"
   },
   "source": [
    "## 4. Functions"
   ]
  },
  {
   "cell_type": "code",
   "execution_count": null,
   "metadata": {
    "id": "q-mu2c_klDHp"
   },
   "outputs": [],
   "source": [
    "# Définir une fonction (Define a function)\n",
    "def salutation(nom):\n",
    "    return f\"Bonjour, {nom}!\"\n",
    "\n",
    "# Appeler la fonction (Call the function)\n",
    "print(salutation(\"...\"))\n",
    "\n",
    "# Fonction avec des arguments par défaut (Function with default arguments)\n",
    "def addition(a, b=5):\n",
    "    return a + b\n",
    "\n",
    "print(addition(10))  # Utilise la valeur par défaut de b (Uses the default value of b)\n",
    "print(addition(10, 20))  # Fournit une valeur pour b (Provides a value for b)"
   ]
  },
  {
   "cell_type": "markdown",
   "metadata": {
    "id": "LFFtnPV5lbAu"
   },
   "source": [
    "## 5. Working with Libraries\n",
    "\n",
    "**Numpy Example**"
   ]
  },
  {
   "cell_type": "code",
   "execution_count": null,
   "metadata": {
    "id": "nUGu-e25lwGj"
   },
   "outputs": [],
   "source": [
    "import numpy as np\n",
    "\n",
    "# Créer un tableau NumPy (Create a NumPy array)\n",
    "tableau = np.array([1, 2, 3, ..., ...])\n",
    "print(\"Tableau NumPy:\", tableau)\n",
    "print(\"Moyenne:\", np.mean(tableau))"
   ]
  },
  {
   "cell_type": "markdown",
   "metadata": {
    "id": "a8j1FeQ8mYqg"
   },
   "source": [
    "**Pandas Example**"
   ]
  },
  {
   "cell_type": "code",
   "execution_count": null,
   "metadata": {
    "id": "PSVB1GGRmfbY"
   },
   "outputs": [],
   "source": [
    "import pandas as pd\n",
    "\n",
    "# Créer un DataFrame (Create a DataFrame)\n",
    "donnees = {\"Nom\": [\"...\", \"...\"], \"Age\": [..., 30]}\n",
    "df = pd.DataFrame(donnees)\n",
    "print(df)"
   ]
  },
  {
   "cell_type": "markdown",
   "metadata": {
    "id": "TETsGcD1mts1"
   },
   "source": [
    "## 6. Data Visualization"
   ]
  },
  {
   "cell_type": "code",
   "execution_count": null,
   "metadata": {
    "id": "DU0KYR6xmvx7"
   },
   "outputs": [],
   "source": [
    "import matplotlib.pyplot as plt\n",
    "\n",
    "# Créer un graphique simple (Create a simple plot)\n",
    "x = [1, 2, 3, 4, 5,...]\n",
    "y = [10, 20, 30, 40, 50,...]\n",
    "plt.plot(x, y, label=\"Ligne\")  # (Line)\n",
    "plt.title(\"Exemple de graphique\")  # (Example plot)\n",
    "plt.xlabel(\"x\")\n",
    "plt.ylabel(\"y\")\n",
    "plt.legend()\n",
    "plt.show()"
   ]
  },
  {
   "cell_type": "markdown",
   "metadata": {
    "id": "9WhVx3sxnr-R"
   },
   "source": [
    "## 7. Introduction to Machine Learning"
   ]
  },
  {
   "cell_type": "code",
   "execution_count": null,
   "metadata": {
    "id": "Mwv1JkmwntqP"
   },
   "outputs": [],
   "source": [
    "from sklearn.linear_model import LinearRegression\n",
    "from sklearn.model_selection import train_test_split\n",
    "# import numpy as np\n",
    "\n",
    "# Exemple de régression linéaire (Linear Regression Example)\n",
    "X = np.array([[1], [2], [3], [4], [5]])\n",
    "y = np.array([10, 20, 30, 40, 50])\n",
    "\n",
    "# Diviser les données (Split the data)\n",
    "X_train, X_test, y_train, y_test = train_test_split(X, y, test_size=0.2, random_state=42)\n",
    "\n",
    "# Créer et ajuster le modèle (Create and fit the model)\n",
    "model = LinearRegression()\n",
    "model.fit(X_train, y_train)\n",
    "print(\"Coefficient:\", model.coef_)\n",
    "print(\"Intercept:\", model.intercept_)"
   ]
  },
  {
   "cell_type": "markdown",
   "metadata": {
    "id": "171rHQLsqwIH"
   },
   "source": [
    "**J'espère que vous vous êtes bien amusé🙂? (I hope you enjoyed yourself🙂?)**\n",
    "\n"
   ]
  }
 ],
 "metadata": {
  "colab": {
   "cell_execution_strategy": "setup",
   "private_outputs": true,
   "provenance": []
  },
  "kernelspec": {
   "display_name": "Python 3 (ipykernel)",
   "language": "python",
   "name": "python3"
  },
  "language_info": {
   "codemirror_mode": {
    "name": "ipython",
    "version": 3
   },
   "file_extension": ".py",
   "mimetype": "text/x-python",
   "name": "python",
   "nbconvert_exporter": "python",
   "pygments_lexer": "ipython3",
   "version": "3.11.7"
  }
 },
 "nbformat": 4,
 "nbformat_minor": 4
}
